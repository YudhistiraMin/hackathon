{
 "cells": [
  {
   "cell_type": "code",
   "execution_count": 1,
   "metadata": {},
   "outputs": [
    {
     "name": "stderr",
     "output_type": "stream",
     "text": [
      "2024-05-08 10:11:25.849911: I tensorflow/tsl/cuda/cudart_stub.cc:28] Could not find cuda drivers on your machine, GPU will not be used.\n",
      "2024-05-08 10:11:26.056203: I tensorflow/tsl/cuda/cudart_stub.cc:28] Could not find cuda drivers on your machine, GPU will not be used.\n",
      "2024-05-08 10:11:26.058071: I tensorflow/core/platform/cpu_feature_guard.cc:182] This TensorFlow binary is optimized to use available CPU instructions in performance-critical operations.\n",
      "To enable the following instructions: AVX2 FMA, in other operations, rebuild TensorFlow with the appropriate compiler flags.\n",
      "2024-05-08 10:11:27.799136: W tensorflow/compiler/tf2tensorrt/utils/py_utils.cc:38] TF-TRT Warning: Could not find TensorRT\n",
      "2024-05-08 10:11:31.863134: I tensorflow/compiler/xla/stream_executor/cuda/cuda_gpu_executor.cc:995] successful NUMA node read from SysFS had negative value (-1), but there must be at least one NUMA node, so returning NUMA node zero. See more at https://github.com/torvalds/linux/blob/v6.0/Documentation/ABI/testing/sysfs-bus-pci#L344-L355\n",
      "2024-05-08 10:11:31.863664: W tensorflow/core/common_runtime/gpu/gpu_device.cc:1960] Cannot dlopen some GPU libraries. Please make sure the missing libraries mentioned above are installed properly if you would like to use GPU. Follow the guide at https://www.tensorflow.org/install/gpu for how to download and setup the required libraries for your platform.\n",
      "Skipping registering GPU devices...\n"
     ]
    },
    {
     "name": "stdout",
     "output_type": "stream",
     "text": [
      "Epoch 1/10\n"
     ]
    },
    {
     "name": "stderr",
     "output_type": "stream",
     "text": [
      "2024-05-08 10:11:32.051066: W tensorflow/tsl/framework/cpu_allocator_impl.cc:83] Allocation of 150528000 exceeds 10% of free system memory.\n"
     ]
    },
    {
     "name": "stdout",
     "output_type": "stream",
     "text": [
      "750/750 [==============================] - 11s 14ms/step - loss: 0.5700 - accuracy: 0.7882 - val_loss: 0.4020 - val_accuracy: 0.8547\n",
      "Epoch 2/10\n",
      "750/750 [==============================] - 10s 13ms/step - loss: 0.3592 - accuracy: 0.8709 - val_loss: 0.3387 - val_accuracy: 0.8761\n",
      "Epoch 3/10\n",
      "750/750 [==============================] - 10s 13ms/step - loss: 0.3075 - accuracy: 0.8879 - val_loss: 0.3098 - val_accuracy: 0.8879\n",
      "Epoch 4/10\n",
      "750/750 [==============================] - 7s 9ms/step - loss: 0.2777 - accuracy: 0.8996 - val_loss: 0.3152 - val_accuracy: 0.8867\n",
      "Epoch 5/10\n",
      "750/750 [==============================] - 8s 11ms/step - loss: 0.2546 - accuracy: 0.9062 - val_loss: 0.2832 - val_accuracy: 0.8953\n",
      "Epoch 6/10\n",
      "750/750 [==============================] - 7s 10ms/step - loss: 0.2346 - accuracy: 0.9138 - val_loss: 0.2681 - val_accuracy: 0.9033\n",
      "Epoch 7/10\n",
      "750/750 [==============================] - 7s 9ms/step - loss: 0.2173 - accuracy: 0.9196 - val_loss: 0.2560 - val_accuracy: 0.9057\n",
      "Epoch 8/10\n",
      "750/750 [==============================] - 7s 9ms/step - loss: 0.1984 - accuracy: 0.9266 - val_loss: 0.2645 - val_accuracy: 0.9057\n",
      "Epoch 9/10\n",
      "750/750 [==============================] - 7s 9ms/step - loss: 0.1870 - accuracy: 0.9305 - val_loss: 0.2575 - val_accuracy: 0.9057\n",
      "Epoch 10/10\n",
      "750/750 [==============================] - 7s 9ms/step - loss: 0.1689 - accuracy: 0.9380 - val_loss: 0.2423 - val_accuracy: 0.9145\n",
      "313/313 [==============================] - 1s 2ms/step - loss: 0.2577 - accuracy: 0.9116\n",
      "Test accuracy: 0.9115999937057495\n"
     ]
    }
   ],
   "source": [
    "import tensorflow as tf\n",
    "from tensorflow.keras import layers, models\n",
    "from tensorflow.keras.datasets import fashion_mnist\n",
    "from tensorflow.keras.utils import to_categorical\n",
    "\n",
    "# Load and preprocess the dataset\n",
    "(train_images, train_labels), (test_images, test_labels) = fashion_mnist.load_data()\n",
    "\n",
    "train_images = train_images.reshape((60000, 28, 28, 1)).astype('float32') / 255\n",
    "test_images = test_images.reshape((10000, 28, 28, 1)).astype('float32') / 255\n",
    "\n",
    "train_labels = to_categorical(train_labels)\n",
    "test_labels = to_categorical(test_labels)\n",
    "\n",
    "model = models.Sequential([\n",
    "    layers.Conv2D(32, (3, 3), activation='relu', input_shape=(28, 28, 1)),\n",
    "    layers.MaxPooling2D((2, 2)),\n",
    "    layers.Conv2D(64, (3, 3), activation='relu'),\n",
    "    layers.MaxPooling2D((2, 2)),\n",
    "    layers.Conv2D(64, (3, 3), activation='relu'),\n",
    "    layers.Flatten(),\n",
    "    layers.Dense(64, activation='relu'),\n",
    "    layers.Dense(10, activation='softmax')\n",
    "])\n",
    "\n",
    "model.compile(optimizer='adam',\n",
    "              loss='categorical_crossentropy',\n",
    "              metrics=['accuracy'])\n",
    "\n",
    "history = model.fit(train_images, train_labels, epochs=10, batch_size=64, validation_split=0.2)\n",
    "\n",
    "test_loss, test_acc = model.evaluate(test_images, test_labels)\n",
    "print('Test accuracy:', test_acc)\n"
   ]
  },
  {
   "cell_type": "code",
   "execution_count": null,
   "metadata": {},
   "outputs": [],
   "source": [
    "loaded_model = tf.keras.models.load_model('fashion_mnist_model.h5')\n",
    "\n",
    "test_loss, test_acc = loaded_model.evaluate(test_images, test_labels)\n",
    "print('Test accuracy:', test_acc)\n"
   ]
  }
 ],
 "metadata": {
  "kernelspec": {
   "display_name": "Python 3",
   "language": "python",
   "name": "python3"
  },
  "language_info": {
   "codemirror_mode": {
    "name": "ipython",
    "version": 3
   },
   "file_extension": ".py",
   "mimetype": "text/x-python",
   "name": "python",
   "nbconvert_exporter": "python",
   "pygments_lexer": "ipython3",
   "version": "3.9.16"
  }
 },
 "nbformat": 4,
 "nbformat_minor": 2
}
